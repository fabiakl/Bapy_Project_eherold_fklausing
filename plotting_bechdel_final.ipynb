{
 "cells": [
  {
   "cell_type": "markdown",
   "id": "7439f32e",
   "metadata": {},
   "source": [
    "# Plotting our Bechdel-Test Results and User Input\n",
    "\n",
    "## Input:\n",
    "For plotting, we are working with our Bechdel Results CSV we created before.\n",
    "For the User input we are also working with the cleaned movie data CSV from before, as well as our helper functions.\n",
    "\n",
    "## Output\n",
    "In this notebook we are creating different plots to visualize how many movies pass each criterion of the Bechdel Test and to analyse whether criteria like year, budget and audience  voting have an impact on whether or not the test is passed.\n",
    "In the second part, the user can input a movie for which they want to know the result of the Bechdel Test. The user can then also ask which characters exactly are talking with each other and in which lines they do."
   ]
  },
  {
   "cell_type": "code",
   "execution_count": 6,
   "id": "35ad845e",
   "metadata": {},
   "outputs": [],
   "source": [
    "import pandas as pd\n",
    "import matplotlib.pyplot as plt\n",
    "import numpy as np\n",
    "from scipy import stats"
   ]
  },
  {
   "cell_type": "code",
   "execution_count": 7,
   "id": "7ce74a2e",
   "metadata": {},
   "outputs": [],
   "source": [
    "bechdel = pd.read_csv('bechdeltest_results.csv')"
   ]
  },
  {
   "cell_type": "code",
   "execution_count": 8,
   "id": "9d4131c2",
   "metadata": {},
   "outputs": [
    {
     "data": {
      "text/html": [
       "<div>\n",
       "<style scoped>\n",
       "    .dataframe tbody tr th:only-of-type {\n",
       "        vertical-align: middle;\n",
       "    }\n",
       "\n",
       "    .dataframe tbody tr th {\n",
       "        vertical-align: top;\n",
       "    }\n",
       "\n",
       "    .dataframe thead th {\n",
       "        text-align: right;\n",
       "    }\n",
       "</style>\n",
       "<table border=\"1\" class=\"dataframe\">\n",
       "  <thead>\n",
       "    <tr style=\"text-align: right;\">\n",
       "      <th></th>\n",
       "      <th>Unnamed: 0</th>\n",
       "      <th>Movie_title</th>\n",
       "      <th>First_Criterion</th>\n",
       "      <th>Second_Criterion</th>\n",
       "      <th>Third_Criterion</th>\n",
       "      <th>release_date</th>\n",
       "      <th>budget</th>\n",
       "      <th>voting</th>\n",
       "      <th>original_language</th>\n",
       "    </tr>\n",
       "  </thead>\n",
       "  <tbody>\n",
       "    <tr>\n",
       "      <th>0</th>\n",
       "      <td>0</td>\n",
       "      <td>Hellraiser</td>\n",
       "      <td>1.0</td>\n",
       "      <td>1.0</td>\n",
       "      <td>1.0</td>\n",
       "      <td>1987-09-11</td>\n",
       "      <td>1000000.0</td>\n",
       "      <td>6.9</td>\n",
       "      <td>en</td>\n",
       "    </tr>\n",
       "    <tr>\n",
       "      <th>1</th>\n",
       "      <td>0</td>\n",
       "      <td>Broadcast News</td>\n",
       "      <td>1.0</td>\n",
       "      <td>1.0</td>\n",
       "      <td>1.0</td>\n",
       "      <td>1987-12-16</td>\n",
       "      <td>20000000.0</td>\n",
       "      <td>6.8</td>\n",
       "      <td>en</td>\n",
       "    </tr>\n",
       "    <tr>\n",
       "      <th>2</th>\n",
       "      <td>0</td>\n",
       "      <td>The Queen</td>\n",
       "      <td>1.0</td>\n",
       "      <td>1.0</td>\n",
       "      <td>1.0</td>\n",
       "      <td>2006-09-15</td>\n",
       "      <td>15000000.0</td>\n",
       "      <td>6.8</td>\n",
       "      <td>en</td>\n",
       "    </tr>\n",
       "    <tr>\n",
       "      <th>3</th>\n",
       "      <td>0</td>\n",
       "      <td>Hesher</td>\n",
       "      <td>1.0</td>\n",
       "      <td>1.0</td>\n",
       "      <td>1.0</td>\n",
       "      <td>2010-01-22</td>\n",
       "      <td>7000000.0</td>\n",
       "      <td>6.7</td>\n",
       "      <td>en</td>\n",
       "    </tr>\n",
       "    <tr>\n",
       "      <th>4</th>\n",
       "      <td>0</td>\n",
       "      <td>Martha Marcy May Marlene</td>\n",
       "      <td>1.0</td>\n",
       "      <td>1.0</td>\n",
       "      <td>1.0</td>\n",
       "      <td>2011-10-21</td>\n",
       "      <td>0.0</td>\n",
       "      <td>6.7</td>\n",
       "      <td>en</td>\n",
       "    </tr>\n",
       "  </tbody>\n",
       "</table>\n",
       "</div>"
      ],
      "text/plain": [
       "   Unnamed: 0               Movie_title  First_Criterion  Second_Criterion  \\\n",
       "0           0                Hellraiser              1.0               1.0   \n",
       "1           0            Broadcast News              1.0               1.0   \n",
       "2           0                 The Queen              1.0               1.0   \n",
       "3           0                    Hesher              1.0               1.0   \n",
       "4           0  Martha Marcy May Marlene              1.0               1.0   \n",
       "\n",
       "   Third_Criterion release_date      budget  voting original_language  \n",
       "0              1.0   1987-09-11   1000000.0     6.9                en  \n",
       "1              1.0   1987-12-16  20000000.0     6.8                en  \n",
       "2              1.0   2006-09-15  15000000.0     6.8                en  \n",
       "3              1.0   2010-01-22   7000000.0     6.7                en  \n",
       "4              1.0   2011-10-21         0.0     6.7                en  "
      ]
     },
     "execution_count": 8,
     "metadata": {},
     "output_type": "execute_result"
    }
   ],
   "source": [
    "bechdel.head()"
   ]
  },
  {
   "cell_type": "code",
   "execution_count": 9,
   "id": "91e4eaaa",
   "metadata": {},
   "outputs": [],
   "source": [
    "# Currently we have the exact release date given in our dtaframe, for plotting it is nicer if we only have the year given,\n",
    "# that's why we change that column here:\n",
    "# first we create a list with the release year of each movie\n",
    "years = []\n",
    "for i, year in enumerate(bechdel.release_date):\n",
    "    years.append(bechdel.release_date[i][:4])\n",
    "\n",
    "# we create a dataframe with that list and exchange the release_date column with it\n",
    "years_data ={'release_year': years}\n",
    "years_df = pd.DataFrame(years_data)\n",
    "bechdel = bechdel.assign(release_date=years_df['release_year'])\n",
    "\n",
    "# Because we only have movies with english as their original language, we can drop the entire column here,\n",
    "# because this won't be interesting to plot\n",
    "del bechdel['original_language']\n",
    "# We can also delete the unnamed column\n",
    "del bechdel['Unnamed: 0']"
   ]
  },
  {
   "cell_type": "code",
   "execution_count": 10,
   "id": "30044f2a",
   "metadata": {},
   "outputs": [
    {
     "data": {
      "text/html": [
       "<div>\n",
       "<style scoped>\n",
       "    .dataframe tbody tr th:only-of-type {\n",
       "        vertical-align: middle;\n",
       "    }\n",
       "\n",
       "    .dataframe tbody tr th {\n",
       "        vertical-align: top;\n",
       "    }\n",
       "\n",
       "    .dataframe thead th {\n",
       "        text-align: right;\n",
       "    }\n",
       "</style>\n",
       "<table border=\"1\" class=\"dataframe\">\n",
       "  <thead>\n",
       "    <tr style=\"text-align: right;\">\n",
       "      <th></th>\n",
       "      <th>Movie_title</th>\n",
       "      <th>First_Criterion</th>\n",
       "      <th>Second_Criterion</th>\n",
       "      <th>Third_Criterion</th>\n",
       "      <th>release_date</th>\n",
       "      <th>budget</th>\n",
       "      <th>voting</th>\n",
       "    </tr>\n",
       "  </thead>\n",
       "  <tbody>\n",
       "    <tr>\n",
       "      <th>0</th>\n",
       "      <td>Hellraiser</td>\n",
       "      <td>1.0</td>\n",
       "      <td>1.0</td>\n",
       "      <td>1.0</td>\n",
       "      <td>1987</td>\n",
       "      <td>1000000.0</td>\n",
       "      <td>6.9</td>\n",
       "    </tr>\n",
       "    <tr>\n",
       "      <th>1</th>\n",
       "      <td>Broadcast News</td>\n",
       "      <td>1.0</td>\n",
       "      <td>1.0</td>\n",
       "      <td>1.0</td>\n",
       "      <td>1987</td>\n",
       "      <td>20000000.0</td>\n",
       "      <td>6.8</td>\n",
       "    </tr>\n",
       "    <tr>\n",
       "      <th>2</th>\n",
       "      <td>The Queen</td>\n",
       "      <td>1.0</td>\n",
       "      <td>1.0</td>\n",
       "      <td>1.0</td>\n",
       "      <td>2006</td>\n",
       "      <td>15000000.0</td>\n",
       "      <td>6.8</td>\n",
       "    </tr>\n",
       "    <tr>\n",
       "      <th>3</th>\n",
       "      <td>Hesher</td>\n",
       "      <td>1.0</td>\n",
       "      <td>1.0</td>\n",
       "      <td>1.0</td>\n",
       "      <td>2010</td>\n",
       "      <td>7000000.0</td>\n",
       "      <td>6.7</td>\n",
       "    </tr>\n",
       "    <tr>\n",
       "      <th>4</th>\n",
       "      <td>Martha Marcy May Marlene</td>\n",
       "      <td>1.0</td>\n",
       "      <td>1.0</td>\n",
       "      <td>1.0</td>\n",
       "      <td>2011</td>\n",
       "      <td>0.0</td>\n",
       "      <td>6.7</td>\n",
       "    </tr>\n",
       "  </tbody>\n",
       "</table>\n",
       "</div>"
      ],
      "text/plain": [
       "                Movie_title  First_Criterion  Second_Criterion  \\\n",
       "0                Hellraiser              1.0               1.0   \n",
       "1            Broadcast News              1.0               1.0   \n",
       "2                 The Queen              1.0               1.0   \n",
       "3                    Hesher              1.0               1.0   \n",
       "4  Martha Marcy May Marlene              1.0               1.0   \n",
       "\n",
       "   Third_Criterion release_date      budget  voting  \n",
       "0              1.0         1987   1000000.0     6.9  \n",
       "1              1.0         1987  20000000.0     6.8  \n",
       "2              1.0         2006  15000000.0     6.8  \n",
       "3              1.0         2010   7000000.0     6.7  \n",
       "4              1.0         2011         0.0     6.7  "
      ]
     },
     "execution_count": 10,
     "metadata": {},
     "output_type": "execute_result"
    }
   ],
   "source": [
    "bechdel.head()"
   ]
  },
  {
   "cell_type": "markdown",
   "id": "f02fa1e8",
   "metadata": {},
   "source": [
    "## Plotting our Bechdel-Test results"
   ]
  },
  {
   "cell_type": "code",
   "execution_count": 11,
   "id": "0150535a",
   "metadata": {},
   "outputs": [],
   "source": [
    "# setting some parameters for plotting\n",
    "plt.rcParams[\"figure.figsize\"] = [8, 7]\n",
    "plt.rcParams[\"figure.autolayout\"] = True\n",
    "plt.rcParams['text.color'] = 'grey'\n",
    "plt.rcParams['axes.edgecolor'] = 'grey'\n",
    "plt.rcParams['xtick.color'] = 'grey'\n",
    "plt.rcParams['ytick.color'] = 'grey'\n",
    "\n",
    "# we will need the total number of movies we have in our dataframe for calculating percentages later\n",
    "list_of_movies = bechdel['Movie_title'].tolist()\n",
    "length = len(list_of_movies)"
   ]
  },
  {
   "cell_type": "code",
   "execution_count": 12,
   "id": "d710de07",
   "metadata": {},
   "outputs": [
    {
     "data": {
      "text/plain": [
       "<function matplotlib.pyplot.show(close=None, block=None)>"
      ]
     },
     "execution_count": 12,
     "metadata": {},
     "output_type": "execute_result"
    },
    {
     "data": {
      "image/png": "[encoded data removed]",
      "text/plain": [
       "<Figure size 576x504 with 1 Axes>"
      ]
     },
     "metadata": {},
     "output_type": "display_data"
    }
   ],
   "source": [
    "# Bar plot for how many movies pass our first criterion: at least two speaking female characters\n",
    "\n",
    "# getting the number of movies that passed the first criterion and the number of those which did not\n",
    "first_criterion = bechdel.loc[bechdel['First_Criterion'] == 1.0].count()[0]\n",
    "failed_first_criterion = len(list_of_movies) - first_criterion\n",
    "# calculating the percentages \n",
    "percent_first =  round((first_criterion/length)*100, 2)\n",
    "percent_not = round(100 - percent_first, 2)\n",
    "# 0.2?\n",
    "plt.title('Movies with at least two speaking female characters') # Two speaking female characters\n",
    "# creating the actual pie plot\n",
    "plt.pie([first_criterion, failed_first_criterion], labels = ['yes: ' + str(percent_first) + ' %', 'no: ' + str(percent_not)+ ' %'], colors = ['#F3A0F2', '#47DBCD'])\n",
    "plt.show"
   ]
  },
  {
   "cell_type": "code",
   "execution_count": 13,
   "id": "fe93b2e0",
   "metadata": {},
   "outputs": [
    {
     "data": {
      "text/plain": [
       "<function matplotlib.pyplot.show(close=None, block=None)>"
      ]
     },
     "execution_count": 13,
     "metadata": {},
     "output_type": "execute_result"
    },
    {
     "data": {
      "image/png": "[encoded data removed]",
      "text/plain": [
       "<Figure size 576x504 with 1 Axes>"
      ]
     },
     "metadata": {},
     "output_type": "display_data"
    }
   ],
   "source": [
    "# Bar plot for how many movies pass our second criterion: two female characters talking to each other\n",
    "\n",
    "# getting the number of movies that passed the second criterion and the number of those which did not\n",
    "second_criterion = bechdel.loc[bechdel['Second_Criterion'] == 1.0].count()[0]\n",
    "failed_second_criterion = len(list_of_movies) - second_criterion\n",
    "# calculating the percentages\n",
    "percent_second =  round((second_criterion/length)*100, 2)\n",
    "percent_not_s = round(100 - percent_second, 2)\n",
    "\n",
    "plt.title('Movies with two female-characters talking with each other')\n",
    "# creating the actual pie plot\n",
    "plt.pie([second_criterion, failed_second_criterion], labels = ['yes: ' + str(percent_second) + ' %', 'no: ' + str(percent_not_s) + \" %\"  ], colors = ['#F3A0F2', '#47DBCD'])\n",
    "plt.show"
   ]
  },
  {
   "cell_type": "code",
   "execution_count": 15,
   "id": "d02fcd69",
   "metadata": {},
   "outputs": [
    {
     "data": {
      "text/plain": [
       "<function matplotlib.pyplot.show(close=None, block=None)>"
      ]
     },
     "execution_count": 15,
     "metadata": {},
     "output_type": "execute_result"
    },
    {
     "data": {
      "image/png": "[encoded data removed]",
      "text/plain": [
       "<Figure size 576x504 with 1 Axes>"
      ]
     },
     "metadata": {},
     "output_type": "display_data"
    }
   ],
   "source": [
    "# Bar plot for how many movies pass our third criterion: two female characters speaking at least 3 sentences with each other\n",
    "\n",
    "# getting the number of movies that passed the third criterion and the number of those which did not\n",
    "third_criterion = bechdel.loc[bechdel['Third_Criterion'] == 1.0].count()[0]\n",
    "failed_third_criterion = len(list_of_movies) - third_criterion\n",
    "# calculating the percentages\n",
    "percent_third =  round((third_criterion/length)*100, 2)\n",
    "percent_not_t = round(100 - percent_third, 2)\n",
    "\n",
    "plt.title('Movies with two female characters speaking at least 3 sentences with each other')\n",
    "# creating the actual pie plot\n",
    "plt.pie([third_criterion, failed_third_criterion], labels = ['yes: ' + str(percent_third) + ' %', 'no: ' + str(percent_not_t) + \" %\"], colors = ['#F3A0F2', '#47DBCD']) \n",
    "plt.show"
   ]
  },
  {
   "cell_type": "markdown",
   "id": "99062449",
   "metadata": {},
   "source": [
    "Films combine fictional elements with real dynamics in the most exciting way possible. After all, the viewers should be able to recognize themselves in the characters.\n",
    "In this sense, they function as a mirror of society. \n",
    "However, in its form they tie in with how knowledge and power are unequally distributed in our society. Therefore, the film mirrors our society in the sense that whoever is perceived as less relevant also dissappears from the reflection. \n",
    "This is not only pointed at by the results of our Categorization analysis but also supported by many studies about the representation of women in film. The same goes for other marginalised groups in our society, which distords the perceiption of their roles and places in the real world.  "
   ]
  },
  {
   "cell_type": "markdown",
   "id": "66b78354",
   "metadata": {},
   "source": [
    "## Bechdel test passing over the course of time:"
   ]
  },
  {
   "cell_type": "code",
   "execution_count": 21,
   "id": "d15fac33",
   "metadata": {},
   "outputs": [
    {
     "data": {
      "image/png": "[encoded data removed]",
      "text/plain": [
       "<Figure size 576x504 with 1 Axes>"
      ]
     },
     "metadata": {
      "needs_background": "dark"
     },
     "output_type": "display_data"
    },
    {
     "name": "stdout",
     "output_type": "stream",
     "text": [
      "This is the slope: 0.0042192691029900335\n"
     ]
    }
   ],
   "source": [
    "# Now we want to see how the percentage of of movies that passed the Bechdel Test (Third Criterion) changed over the last 50 years\n",
    "\n",
    "# lists that we will need later\n",
    "percentage_list = []\n",
    "year_list = []\n",
    "# setting our start year for the plot\n",
    "release_year = 1970\n",
    "\n",
    "# Because we have too many different years given in our dataframe, we group them together\n",
    "while release_year < 2012:\n",
    "    until = 0\n",
    "    count = 0\n",
    "    \n",
    "    for i, year in enumerate(bechdel.release_date):\n",
    "      if int(year) == release_year:\n",
    "          until += 1 # counts the movies in the release_year's range\n",
    "          # for each entry in the release_date column of our dataframe we check whether the year is in the range of 4 years of our release year variable\n",
    "          if bechdel.Third_Criterion[i] == 1.0:\n",
    "              count +=1 # counts the movies in the release_year's range that pass the third Criterion (=full Bechdel-Test)\n",
    "    \n",
    "    # dividing our 'count' count by our 'until' count to get the percentage of movies that passed the Bechdel-Test and appending to our percentage list\n",
    "    percentage_list.append(round(count/until, 2))\n",
    "    year_list.append(release_year) # appending the current release_year for plotting later\n",
    "    release_year += 1 # increasing the release_year\n",
    "\n",
    "# Creating the plot with our previously made year- and percentage-lists\n",
    "slope, intercept, r, p, std_err = stats.linregress(year_list, percentage_list)\n",
    "\n",
    "def myfunc(x):\n",
    "  return slope * x + intercept\n",
    "\n",
    "mymodel = list(map(myfunc, year_list))\n",
    "\n",
    "plt.scatter(year_list, percentage_list)\n",
    "plt.plot(year_list, mymodel)\n",
    "plt.ylabel('Percentage', color = 'grey')\n",
    "plt.xlabel('Years', color = 'grey')\n",
    "plt.title('Percentage of movies that passed the Bechdel Test over the last 50 years')\n",
    "plt.show()\n",
    "\n",
    "print(\"This is the slope:\", slope)"
   ]
  },
  {
   "cell_type": "markdown",
   "id": "c5217d2a",
   "metadata": {},
   "source": [
    "## Movie budget and bechdel test passing:"
   ]
  },
  {
   "cell_type": "code",
   "execution_count": 18,
   "id": "84900822",
   "metadata": {},
   "outputs": [
    {
     "data": {
      "image/png": "[encoded data removed]",
      "text/plain": [
       "<Figure size 576x504 with 1 Axes>"
      ]
     },
     "metadata": {
      "needs_background": "dark"
     },
     "output_type": "display_data"
    },
    {
     "name": "stdout",
     "output_type": "stream",
     "text": [
      "This is the slope: -2.4999999999999992e-09\n"
     ]
    }
   ],
   "source": [
    "# Now we want to see whether the budget of the movies has as impact on the percentage of of movies that passed the Bechdel Test (Third Criterion)\n",
    "\n",
    "# lists that we will need later\n",
    "percentage_list = []\n",
    "budget_list = []\n",
    "# setting our start budget for the plot\n",
    "budget_helper = 1000000\n",
    "\n",
    "# Because we have too many different budgets given in our dataframe, we group them together\n",
    "while budget_helper < 30000000:\n",
    "    until = 0\n",
    "    count = 0\n",
    "    \n",
    "    for i, budget in enumerate(bechdel.budget):\n",
    "        # for each entry in the budget column of our dataframe we check whether the budget is in the range of 2.000.000$ of our budget_helper\n",
    "        if int(budget) > (budget_helper-1000000) and int(budget) <= budget_helper+1000000:\n",
    "            until += 1 # counts the movies in the budget_helper's range\n",
    "            if bechdel.Third_Criterion[i] == 1.0:\n",
    "                count +=1 # counts the movies in the budget_helper's range that pass the third Criterion (=full Bechdel-Test)\n",
    "    \n",
    "    # dividing our 'count' count by our 'until' count to get the percentage of movies that passed the Bechdel-Test and appending to our percentage list\n",
    "    percentage_list.append(round(count/until, 2))\n",
    "    budget_list.append(budget_helper) # appending the current budget_helper for plotting later\n",
    "    budget_helper += 2000000 # increasing our budget_helper\n",
    "\n",
    "# lets get the important key values of linear regression\n",
    "slope, intercept, r, p, std_err = stats.linregress(budget_list, percentage_list)\n",
    "\n",
    "# Run each value of the x array through the function to calculate the corresponding y-value.\n",
    "mymodel = list(map(myfunc, budget_list))\n",
    "\n",
    "# Draw the original scatter plot:\n",
    "plt.scatter(budget_list, percentage_list)\n",
    "#Draw the line of linear regression:\n",
    "plt.plot(budget_list, mymodel)\n",
    "plt.ylabel('Percentage', color = 'grey')\n",
    "plt.xlabel('Budget in million $', color = 'grey')\n",
    "plt.title('Percentage of movies that passed the Bechdel Test and the budget of the movies')\n",
    "plt.show()\n",
    "\n",
    "print(\"This is the slope:\", slope)"
   ]
  },
  {
   "cell_type": "markdown",
   "id": "603fbfee",
   "metadata": {},
   "source": [
    "## Audience votings and bechdel test passing"
   ]
  },
  {
   "cell_type": "code",
   "execution_count": 20,
   "id": "588f80a4",
   "metadata": {},
   "outputs": [
    {
     "data": {
      "image/png": "[encoded data removed]",
      "text/plain": [
       "<Figure size 576x504 with 1 Axes>"
      ]
     },
     "metadata": {
      "needs_background": "dark"
     },
     "output_type": "display_data"
    },
    {
     "name": "stdout",
     "output_type": "stream",
     "text": [
      "This is the slope: 0.07472727272727273\n"
     ]
    }
   ],
   "source": [
    "# Now we want to see whether the audience votings of the movies has as impact on the percentage of of movies that passed the Bechdel Test (Third Criterion)\n",
    "\n",
    "# lists that we will need later\n",
    "percentage_list = []\n",
    "voting_list = []\n",
    "# setting our start voting for the plot\n",
    "voting_helper = 3.5\n",
    "\n",
    "# Because we have too many different votings given in our dataframe, we group them together with a range of 0.5 points\n",
    "while voting_helper < 9:\n",
    "    until = 0\n",
    "    count = 0\n",
    "    \n",
    "    for i, voting in enumerate(bechdel.voting):\n",
    "        # for each entry in the voting column of our dataframe we check whether the voting is in the range of 0.5 of our voting_helper\n",
    "        if float(voting) > (voting_helper-0.25) and float(voting) <= voting_helper+0.25:\n",
    "            until += 1 # counts the movies in the voting_helper's range\n",
    "            if bechdel.Third_Criterion[i] == 1.0:\n",
    "                count +=1 # counts the movies in the voting_helper's range that pass the third Criterion (=full Bechdel-Test)\n",
    "    \n",
    "    # dividing our 'count' count by our 'until' count to get the percentage of movies that passed the Bechdel-Test and appending to our percentage list\n",
    "    percentage_list.append(round(count/until, 2))\n",
    "    voting_list.append(voting_helper) # appending the current voting_helper for plotting later\n",
    "    voting_helper += 0.5 # increasing the voting_helper\n",
    "\n",
    "# lets get the important key values of linear regression\n",
    "slope, intercept, r, p, std_err = stats.linregress(voting_list, percentage_list)\n",
    "\n",
    "# Run each value of the x array through the function to calculate the corresponding y-value.\n",
    "mymodel = list(map(myfunc, voting_list))\n",
    "\n",
    "# Draw the original scatter plot:\n",
    "plt.scatter(voting_list, percentage_list)\n",
    "#Draw the line of linear regression:\n",
    "plt.plot(voting_list, mymodel)\n",
    "plt.title('Percentage of movies that passed the the third criterion of the Bechdel Test and the audience voting')\n",
    "plt.ylabel('Percentage', color = 'grey')\n",
    "plt.xlabel('Voting', color = 'grey')\n",
    "plt.show()\n",
    "\n",
    "print(\"This is the slope:\", slope)"
   ]
  },
  {
   "cell_type": "markdown",
   "id": "178c5f33",
   "metadata": {},
   "source": [
    "## Interpretation of the results \n",
    "\n",
    "In case of the budget spending, our slope is slightly negative, indicating that a higher budget goes along with a lower percantage of movies passing the bechdel test. In terms of the bechdel-test passing percentages between 1970-2012, the slope is positive, indicating that over the course of time more and more movies started to pass the bechdel-test. \n",
    "\n",
    "HOWEVER, in order to reliably find out whether there is a significant linear relationship between the independent Variable X and the dependent variable Y, we would've needed to choose a significance level as well as specifying a proper test method. \n",
    "An additional issue is, that there is a persumed lack of homoscedasticity of the residuals of our individual datapoints at least in case of the budget-bechdel relationship. The cone-shaped distribution of the residuals of the datapoints indicates the presence of heteroscedasticity. This is a problem because regressions involving ordinary least squares (OLS) assume that the residuals are drawn from a population with constant variance.\n",
    "\n",
    "For these reasons, our graphical visualisations are only for roughly getting a better overview of our analysis results and not to be taken as statistial evidence for correlation behaviour. We didn't go further in depth regarding the statistical interpretation of our results, as our main work lies within the categorization of movies regarding the bechdel-test. \n"
   ]
  },
  {
   "cell_type": "markdown",
   "id": "237ce668",
   "metadata": {},
   "source": [
    "## User input"
   ]
  },
  {
   "cell_type": "code",
   "execution_count": 5,
   "id": "d514369d",
   "metadata": {},
   "outputs": [],
   "source": [
    "df = pd.read_csv(r'movie_data_cleaned_new.csv')\n",
    "%run -i helper_functions.py  # in this, we saved the functions necessary for conducting the Bechdel-Test"
   ]
  },
  {
   "cell_type": "markdown",
   "id": "f43de61c",
   "metadata": {},
   "source": [
    "## User can check results of the Bechdel-Test"
   ]
  },
  {
   "cell_type": "code",
   "execution_count": 4,
   "id": "ac2c85fb",
   "metadata": {},
   "outputs": [
    {
     "name": "stdout",
     "output_type": "stream",
     "text": [
      "Hello and welcome to our program about the Bechdel Test!\n",
      "The Bechdel Test is a test to check the representation of women in a movie. It has three criterions:\n",
      "1. Are there at least two female characters in the movie?\n",
      "2. Are there female characters talking to each other?\n",
      "3. Are there female characters talking to each other for more than 3 sentences?\n",
      "\n",
      "Enter the movie for which you want to know the result of the Bechdel-Test.\n",
      "Watch your spelling!Toy Story\n",
      "Results for: Toy Story \n",
      "\n",
      "Sorry, it seems like we do not have your requested movie in our database :(\n",
      "Do you want to know which characters exactly are talking with each other and in which lines?\n",
      "Please enter yes/no.yes\n",
      "Please write either \"no\" or \"yes\"\n"
     ]
    }
   ],
   "source": [
    "# Welcomeing words and explanation of the Bechdel-Test\n",
    "# Example for not passing the bechdel-test: Toy Story \n",
    "# Example for passing the bechdel-test: Sense and Sensibility\n",
    "print(\"Hello and welcome to our program about the Bechdel Test!\\n\"\n",
    "      \"The Bechdel Test is a test to check the representation of women in a movie. It has three criterions:\\n\"\n",
    "      \"1. Are there at least two female characters in the movie?\\n\"\n",
    "      \"2. Are there female characters talking to each other?\\n\"\n",
    "      \"3. Are there female characters talking to each other for more than 3 sentences?\"\n",
    "      \"\\n\")\n",
    "\n",
    "# getting input from the user\n",
    "user_input = input(\"Enter the movie for which you want to know the result of the Bechdel-Test.\\n\"\n",
    "                   \"Watch your spelling!\")\n",
    "\n",
    "# Here we use a try-except block, because if we don't have the requested movie in our dataframe, \n",
    "# there would be error-messages from the following code in the try-block\n",
    "try:\n",
    "    # first we carry out the bechdel test for the requested movie\n",
    "    our_movie = df[df['title_of_movie']==user_input].reset_index(drop=True)\n",
    "    our_movie = our_movie.dropna(subset=[\"character\"])\n",
    "    print(\"Results for:\", user_input, \"\\n\") \n",
    "    bechdel_our_movie = bechdel_test(our_movie)\n",
    "    # checking if the requested movie passes the first criterion\n",
    "    if bechdel_our_movie['Named_Character']:\n",
    "        print('The movie passes the first criterion: There are at least two female characters in ' + user_input)\n",
    "    else:\n",
    "        print(\"This movie does not pass any of the criterions of the Bechdel-Test\")\n",
    "    # chhecking if the requested movie passes the second criterion\n",
    "    if bechdel_our_movie['Consecutive_dialog']:\n",
    "        print('The movie passes the second criterion: There are female characters talking to each other.')\n",
    "    else:\n",
    "        print(\"There are no women talking to each other in this movie\")\n",
    "    # checking if the requested movie passes the third criterion\n",
    "    if bechdel_our_movie['More_than_two_sentences']:\n",
    "        print('The movie passes the third criterion: There are female characters talking to each other for more than 3 sentences.')\n",
    "        print(\"YAY! \" + user_input + \" passes the whole Bechdel-Test!\")\n",
    "    else:\n",
    "        print(\"There are no women in this movie speaking with each other for more than 3 sentences.\")\n",
    "except:\n",
    "    print(\"Sorry, it seems like we do not have your requested movie in our database :(\")\n",
    "\n",
    "user_input2 = input(\"Do you want to know which characters exactly are talking with each other and in which lines?\\n\"\n",
    "                   \"Please enter yes/no.\")\n",
    "\n",
    "try:\n",
    "    if user_input2 == \"yes\": \n",
    "        if bechdel_our_movie[\"Who_is_talking\"]:\n",
    "            print(bechdel_our_movie[\"Who_is_talking\"])\n",
    "        else:\n",
    "            print(\"There are no female characters talking with each other\")\n",
    "    elif user_input2 == \"no\":\n",
    "        print(\"Thanks for taking the Bechdel test of {}. Have a nice day!\".format(user_input))\n",
    "except:\n",
    "    print(\"Please write either \\\"no\\\" or \\\"yes\\\"\")"
   ]
  }
 ],
 "metadata": {
  "kernelspec": {
   "display_name": "Python 3",
   "language": "python",
   "name": "python3"
  },
  "language_info": {
   "codemirror_mode": {
    "name": "ipython",
    "version": 3
   },
   "file_extension": ".py",
   "mimetype": "text/x-python",
   "name": "python",
   "nbconvert_exporter": "python",
   "pygments_lexer": "ipython3",
   "version": "3.8.8"
  },
  "vscode": {
   "interpreter": {
    "hash": "3c0ed15480eb423fdcd544667b7c2fa037f1a5a812dbe50b2b749b93b43ae443"
   }
  }
 },
 "nbformat": 4,
 "nbformat_minor": 5
}
